{
  "nbformat": 4,
  "nbformat_minor": 0,
  "metadata": {
    "colab": {
      "provenance": [],
      "authorship_tag": "ABX9TyMMAtMCdW5JEc71AQM8yCOt",
      "include_colab_link": true
    },
    "kernelspec": {
      "name": "python3",
      "display_name": "Python 3"
    },
    "language_info": {
      "name": "python"
    }
  },
  "cells": [
    {
      "cell_type": "markdown",
      "metadata": {
        "id": "view-in-github",
        "colab_type": "text"
      },
      "source": [
        "<a href=\"https://colab.research.google.com/github/Navinsai26/cloud_upload/blob/main/cloud_upload.ipynb\" target=\"_parent\"><img src=\"https://colab.research.google.com/assets/colab-badge.svg\" alt=\"Open In Colab\"/></a>"
      ]
    },
    {
      "cell_type": "code",
      "source": [
        "# Need to install the Paho client library.  \n",
        "!pip3 install paho-mqtt"
      ],
      "metadata": {
        "id": "Wt0Zgs6FSxg3"
      },
      "execution_count": null,
      "outputs": []
    },
    {
      "cell_type": "code",
      "execution_count": 2,
      "metadata": {
        "id": "FJLSSpDxPW2n"
      },
      "outputs": [],
      "source": [
        "import os\n",
        "import glob\n",
        "import time\n",
        "import pandas as pd\n",
        "import http.client\n",
        "import urllib\n",
        "import time\n",
        "import paho.mqtt.publish as publish\n",
        "import psutil\n",
        "from tkinter import *\n",
        "import csv\n",
        "from datetime import datetime\n",
        "from datetime import date\n",
        "from sys import exit"
      ]
    },
    {
      "cell_type": "code",
      "source": [
        "with open('/home/main_data/Patient_Details.csv', 'a', newline=\"\",) as files:\n",
        "    myFiles = csv.writer(files)\n",
        "    \n",
        "#3 Writing the column headers    \n",
        "    myFiles.writerow([\"PID\",\"Name\",\"Age\",\"Dob\", \\\n",
        "                     \"Gender\",\"Temperature\"])\n",
        "\n",
        "    n=1000 \n",
        "    date=time.strftime('%Y%m%d')\n",
        "    for i in range(1,n):\n",
        "        print(\"Next Patient Please\")\n",
        "        c = str(i)\n",
        "        ID=date+c\n",
        "        print(\"Patient ID \",ID)\n",
        "        name = input(\" NAME: \")\n",
        "        age = int(input(\"Age:\"))\n",
        "        dob = input(\"Enter Dob : \",)\n",
        "        bday = datetime.strptime(dob, '%d/%m/%Y')\n",
        "        print(\"DOB\",dob)\n",
        "        gen=input(\"Gender ( Male,female or Transgender :)\")\n",
        "        #temp=input(\"Temperature: \")\n",
        "        answer = str(input(\"Is the information correct? Enter Y for yes or N for no\"))\n",
        "        proceed=\"y\" or \"Y\"\n",
        "        if answer==proceed:\n",
        "            print(\"Thank you\")\n",
        "        \n",
        "        myFiles.writerow([ID,name,age,dob,gen])\n",
        "        with open(\"/home/data_files/ID\"+name+\".csv\",'a') as file:\n",
        "            myFile = csv.writer(file)\n",
        "            myFile.writerow([\"PID\",\"Name\",\"Age\",\"Dob\",\"Gender\",\"Temperature\"])\n",
        "            myFile.writerow([ID,name,age,dob,gen])"
      ],
      "metadata": {
        "id": "jzxSkzbjrIPY"
      },
      "execution_count": null,
      "outputs": []
    },
    {
      "cell_type": "code",
      "source": [
        "# Get the list of all files and directories\n",
        "path = \"/home/data_files/\"\n",
        "dir_list = os.listdir(path)\n",
        "name=dir_list\n",
        "\n",
        "# create empty list\n",
        "dataframes_list = []\n",
        " \n",
        "# append datasets into the list\n",
        "for i in range(len(name)):\n",
        "    temp_df = pd.read_csv(\"/home/data_files/\"+name[i])\n",
        "    dataframes_list.append(temp_df)\n",
        "for data in dataframes_list:\n",
        "    display(data)\n",
        "    PID=data.PID[0]\n",
        "    Name=data.Name[0]\n",
        "    Age=data.Age[0]\n",
        "    Dob=data.Dob[0]\n",
        "    Gender=data.Gender[0]\n",
        "    Temperature=data.Temperature[0]\n",
        "    print(PID)\n",
        "    print(Name)\n",
        "    print(Age)\n",
        "    print(Dob)\n",
        "    print(Gender)\n",
        "    print(Temperature)"
      ],
      "metadata": {
        "id": "UzKcECeqFJQ5"
      },
      "execution_count": null,
      "outputs": []
    },
    {
      "cell_type": "code",
      "source": [
        "#Channel Details\n",
        "channelID = \"2052037\"\n",
        "apiKey = \"AFS4PGPTXK8JRLJJ\"\n",
        "topic = \"channels/\" + channelID + \"/publish/\" + apiKey\n",
        "mqttHost = \"mqtt.thingspeak.com\""
      ],
      "metadata": {
        "id": "qq2jgubPS2Cv"
      },
      "execution_count": 11,
      "outputs": []
    },
    {
      "cell_type": "code",
      "source": [
        "#ThingSpeak upload\n",
        "def uploadReadings():\n",
        "    params = urllib.parse.urlencode({'field1':str(PID),'field2':(Name),'field3':(Age),'field4':(Dob),'field5':(Gender),'field6':(Temperature),'key':apiKey})\n",
        "    print(params)\n",
        "    headers = {\"Content-type\": \"application/x-www-form-urlencoded\",\"Accept\": \"text/plain\"}\n",
        "    conn = http.client.HTTPConnection(\"api.thingspeak.com:80\")\n",
        "    try:\n",
        "        print(\"Attempting to contact ThingSpeak\")\n",
        "        conn.request(\"POST\", \"/update\", params, headers)\n",
        "        response = conn.getresponse()\n",
        "        print (\"Upload status: \", response.status, response.reason)\n",
        "        conn.close()\n",
        "    except:\n",
        "        print(\"Connection failed\")\n",
        "while True:\n",
        "    uploadReadings()\n",
        "    break"
      ],
      "metadata": {
        "id": "zLoVzhrWS74-"
      },
      "execution_count": null,
      "outputs": []
    }
  ]
}